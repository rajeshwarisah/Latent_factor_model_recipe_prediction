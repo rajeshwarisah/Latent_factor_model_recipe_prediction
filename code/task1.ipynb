{
  "nbformat": 4,
  "nbformat_minor": 0,
  "metadata": {
    "environment": {
      "name": "tf2-gpu.2-1.m55",
      "type": "gcloud",
      "uri": "gcr.io/deeplearning-platform-release/tf2-gpu.2-1:m55"
    },
    "kernelspec": {
      "display_name": "Python 3",
      "language": "python",
      "name": "python3"
    },
    "language_info": {
      "codemirror_mode": {
        "name": "ipython",
        "version": 3
      },
      "file_extension": ".py",
      "mimetype": "text/x-python",
      "name": "python",
      "nbconvert_exporter": "python",
      "pygments_lexer": "ipython3",
      "version": "3.7.8"
    },
    "colab": {
      "provenance": [],
      "collapsed_sections": []
    }
  },
  "cells": [
    {
      "cell_type": "code",
      "metadata": {
        "colab": {
          "base_uri": "https://localhost:8080/"
        },
        "id": "k4-3pkQYKbY1",
        "outputId": "6be9e109-6dc2-484b-eb88-e57bbbe6375a"
      },
      "source": [
        "from google.colab import drive\n",
        "drive.mount('/content/drive')"
      ],
      "execution_count": null,
      "outputs": [
        {
          "output_type": "stream",
          "name": "stdout",
          "text": [
            "Drive already mounted at /content/drive; to attempt to forcibly remount, call drive.mount(\"/content/drive\", force_remount=True).\n"
          ]
        }
      ]
    },
    {
      "cell_type": "code",
      "metadata": {
        "id": "IFBCCWkInch6",
        "colab": {
          "base_uri": "https://localhost:8080/"
        },
        "outputId": "d57531ce-f851-4ef7-bf14-4268accf46af"
      },
      "source": [
        "! pip install surprise"
      ],
      "execution_count": null,
      "outputs": [
        {
          "output_type": "stream",
          "name": "stdout",
          "text": [
            "Requirement already satisfied: surprise in /usr/local/lib/python3.7/dist-packages (0.1)\n",
            "Requirement already satisfied: scikit-surprise in /usr/local/lib/python3.7/dist-packages (from surprise) (1.1.1)\n",
            "Requirement already satisfied: scipy>=1.0.0 in /usr/local/lib/python3.7/dist-packages (from scikit-surprise->surprise) (1.4.1)\n",
            "Requirement already satisfied: numpy>=1.11.2 in /usr/local/lib/python3.7/dist-packages (from scikit-surprise->surprise) (1.19.5)\n",
            "Requirement already satisfied: six>=1.10.0 in /usr/local/lib/python3.7/dist-packages (from scikit-surprise->surprise) (1.15.0)\n",
            "Requirement already satisfied: joblib>=0.11 in /usr/local/lib/python3.7/dist-packages (from scikit-surprise->surprise) (1.1.0)\n"
          ]
        }
      ]
    },
    {
      "cell_type": "code",
      "metadata": {
        "id": "-qTeoLvvC_Eo"
      },
      "source": [
        "import gzip\n",
        "from collections import defaultdict\n",
        "from sklearn import linear_model\n",
        "import csv\n",
        "import pandas as pd\n",
        "import random\n",
        "from tqdm import tqdm\n",
        "import matplotlib.pyplot as plt\n",
        "import numpy as np\n",
        "# from implicit import bpr\n",
        "from surprise import SVD, Reader, Dataset\n",
        "from sklearn.model_selection import train_test_split\n",
        "\n",
        "%matplotlib inline\n",
        "plt.rcParams.update({'figure.figsize':(7,5), 'figure.dpi':100})"
      ],
      "execution_count": null,
      "outputs": []
    },
    {
      "cell_type": "code",
      "metadata": {
        "id": "UC4hgq0NC_Ev"
      },
      "source": [
        "\n",
        "def readGz(path):\n",
        "    for l in gzip.open(path, 'rt'):\n",
        "        yield eval(l)\n",
        "\n",
        "def readCSV(path):\n",
        "    f = gzip.open(path, 'rt')\n",
        "    c = csv.reader(f)\n",
        "    header = next(c)\n",
        "    for l in c:\n",
        "        d = dict(zip(header,l))\n",
        "        yield d['user_id'],d['recipe_id'],d\n"
      ],
      "execution_count": null,
      "outputs": []
    },
    {
      "cell_type": "code",
      "metadata": {
        "id": "4L_d6CDbnbWF"
      },
      "source": [],
      "execution_count": null,
      "outputs": []
    },
    {
      "cell_type": "code",
      "metadata": {
        "id": "tWQVguZFKoRF"
      },
      "source": [
        "data_dir = \"drive/MyDrive/assignment1_data/\""
      ],
      "execution_count": null,
      "outputs": []
    },
    {
      "cell_type": "code",
      "metadata": {
        "id": "iVufFcCWC_Ew"
      },
      "source": [
        "\n",
        "### Rating baseline: compute averages for each user, or return the global average if we've never seen the user before\n",
        "\n",
        "allRatings = []\n",
        "userRatings = defaultdict(list)\n",
        "userRecipeDict = defaultdict(set)\n",
        "totalRecipe = set()\n",
        "dataset = []\n",
        "\n",
        "for user,recipe,d in readCSV(data_dir + \"trainInteractions.csv.gz\"):\n",
        "    r = int(d['rating'])\n",
        "    allRatings.append(r)\n",
        "    userRecipeDict[user].add(recipe)\n",
        "    userRatings[user].append(r)\n",
        "    totalRecipe.add(recipe)\n",
        "    dataset.append((user, recipe, 1,r))\n",
        "    \n",
        "\n",
        "globalAverage = sum(allRatings) / len(allRatings)\n",
        "userAverage = {}\n",
        "for u in userRatings:\n",
        "  if len(userRatings[u]) > 10:\n",
        "    userAverage[u] = sum(userRatings[u]) / len(userRatings[u])\n"
      ],
      "execution_count": null,
      "outputs": []
    },
    {
      "cell_type": "code",
      "metadata": {
        "id": "7CEgVx_wC_Ex",
        "colab": {
          "base_uri": "https://localhost:8080/"
        },
        "outputId": "f69c69ce-5cdb-4ef8-c104-7aec049a3fff"
      },
      "source": [
        "globalAverage"
      ],
      "execution_count": null,
      "outputs": [
        {
          "output_type": "execute_result",
          "data": {
            "text/plain": [
              "4.580794"
            ]
          },
          "metadata": {},
          "execution_count": 7
        }
      ]
    },
    {
      "cell_type": "code",
      "metadata": {
        "id": "7ttWGRlHC_Ez"
      },
      "source": [
        "train_size = 400000\n",
        "\n",
        "X = [(u,i) for u,i,_,r in dataset]\n",
        "y = [r for _,_,_,r in dataset]\n",
        "X_train, X_test, y_train, y_test = train_test_split( X, y, test_size=0.2, random_state=42)\n"
      ],
      "execution_count": null,
      "outputs": []
    },
    {
      "cell_type": "code",
      "metadata": {
        "id": "aF2aGUbJqfhY"
      },
      "source": [],
      "execution_count": null,
      "outputs": []
    },
    {
      "cell_type": "markdown",
      "metadata": {
        "id": "FXUq2iY1C_E0"
      },
      "source": [
        "## Question 1 "
      ]
    },
    {
      "cell_type": "code",
      "metadata": {
        "id": "d7N9Ga3vVoI6"
      },
      "source": [
        "import pandas as pd"
      ],
      "execution_count": null,
      "outputs": []
    },
    {
      "cell_type": "code",
      "metadata": {
        "id": "oUks4IB9VqmW"
      },
      "source": [
        "data = pd.DataFrame([(t[0], t[1], r) for t, r in zip(X_train, y_train)])\n",
        "data.columns = [\"user_id\", \"recipe_id\", \"rating\"]"
      ],
      "execution_count": null,
      "outputs": []
    },
    {
      "cell_type": "code",
      "metadata": {
        "colab": {
          "base_uri": "https://localhost:8080/",
          "height": 204
        },
        "id": "mzl7W6ObehfH",
        "outputId": "28b5209a-f902-4e26-a9e4-43688e19b005"
      },
      "source": [
        "data.head()"
      ],
      "execution_count": null,
      "outputs": [
        {
          "output_type": "execute_result",
          "data": {
            "text/html": [
              "<div>\n",
              "<style scoped>\n",
              "    .dataframe tbody tr th:only-of-type {\n",
              "        vertical-align: middle;\n",
              "    }\n",
              "\n",
              "    .dataframe tbody tr th {\n",
              "        vertical-align: top;\n",
              "    }\n",
              "\n",
              "    .dataframe thead th {\n",
              "        text-align: right;\n",
              "    }\n",
              "</style>\n",
              "<table border=\"1\" class=\"dataframe\">\n",
              "  <thead>\n",
              "    <tr style=\"text-align: right;\">\n",
              "      <th></th>\n",
              "      <th>user_id</th>\n",
              "      <th>recipe_id</th>\n",
              "      <th>rating</th>\n",
              "    </tr>\n",
              "  </thead>\n",
              "  <tbody>\n",
              "    <tr>\n",
              "      <th>0</th>\n",
              "      <td>35619582</td>\n",
              "      <td>44587855</td>\n",
              "      <td>0</td>\n",
              "    </tr>\n",
              "    <tr>\n",
              "      <th>1</th>\n",
              "      <td>50554282</td>\n",
              "      <td>51482760</td>\n",
              "      <td>5</td>\n",
              "    </tr>\n",
              "    <tr>\n",
              "      <th>2</th>\n",
              "      <td>93702895</td>\n",
              "      <td>09843811</td>\n",
              "      <td>4</td>\n",
              "    </tr>\n",
              "    <tr>\n",
              "      <th>3</th>\n",
              "      <td>93484810</td>\n",
              "      <td>80488857</td>\n",
              "      <td>5</td>\n",
              "    </tr>\n",
              "    <tr>\n",
              "      <th>4</th>\n",
              "      <td>72132392</td>\n",
              "      <td>62506910</td>\n",
              "      <td>5</td>\n",
              "    </tr>\n",
              "  </tbody>\n",
              "</table>\n",
              "</div>"
            ],
            "text/plain": [
              "    user_id recipe_id  rating\n",
              "0  35619582  44587855       0\n",
              "1  50554282  51482760       5\n",
              "2  93702895  09843811       4\n",
              "3  93484810  80488857       5\n",
              "4  72132392  62506910       5"
            ]
          },
          "metadata": {},
          "execution_count": 11
        }
      ]
    },
    {
      "cell_type": "code",
      "metadata": {
        "id": "2w6LwI7IC_E_"
      },
      "source": [
        "\n",
        "median_no_rating = data.groupby(\"user_id\").size().median()\n",
        "median_recipe_count = data.groupby(\"recipe_id\").size().median()\n",
        "\n",
        "data = data.join(data.groupby(\"user_id\").size().rename('user_count'), on=\"user_id\")\n",
        "data = data.join(data.groupby(\"recipe_id\").size().rename('recipe_count'), on=\"recipe_id\")\n",
        "\n",
        "active_user_data = data[data[\"user_count\"] >= 4*median_no_rating]\n",
        "active_user_data = active_user_data[active_user_data[\"recipe_count\"] >= 4*median_recipe_count]\n",
        "\n",
        "\n",
        "active_userid = set(active_user_data[\"user_id\"])\n",
        "active_recipe = set(active_user_data[\"recipe_id\"])"
      ],
      "execution_count": null,
      "outputs": []
    },
    {
      "cell_type": "code",
      "metadata": {
        "colab": {
          "base_uri": "https://localhost:8080/"
        },
        "id": "SEo4ap4on8FU",
        "outputId": "a5df2504-b519-4b8e-ae42-69c537ef1e84"
      },
      "source": [
        "data.groupby(\"user_id\").size().max()"
      ],
      "execution_count": null,
      "outputs": [
        {
          "output_type": "execute_result",
          "data": {
            "text/plain": [
              "3809"
            ]
          },
          "metadata": {},
          "execution_count": 13
        }
      ]
    },
    {
      "cell_type": "code",
      "metadata": {
        "colab": {
          "base_uri": "https://localhost:8080/"
        },
        "id": "uZPPyDz1hgfF",
        "outputId": "b40ebb65-412f-4699-f18d-778f0b6be0c1"
      },
      "source": [
        "median_recipe_count, median_no_rating"
      ],
      "execution_count": null,
      "outputs": [
        {
          "output_type": "execute_result",
          "data": {
            "text/plain": [
              "(1.0, 10.0)"
            ]
          },
          "metadata": {},
          "execution_count": 14
        }
      ]
    },
    {
      "cell_type": "code",
      "metadata": {
        "colab": {
          "base_uri": "https://localhost:8080/"
        },
        "id": "_okkF51YevFV",
        "outputId": "5ad26b29-7a80-4dfa-812a-d21665884fad"
      },
      "source": [
        "active_user_data.shape"
      ],
      "execution_count": null,
      "outputs": [
        {
          "output_type": "execute_result",
          "data": {
            "text/plain": [
              "(148985, 5)"
            ]
          },
          "metadata": {},
          "execution_count": 15
        }
      ]
    },
    {
      "cell_type": "code",
      "metadata": {
        "id": "o6TYgPttC_E_"
      },
      "source": [
        "train_data_active = active_user_data[[\"user_id\", \"recipe_id\", \"rating\"]].values.tolist()"
      ],
      "execution_count": null,
      "outputs": []
    },
    {
      "cell_type": "markdown",
      "metadata": {
        "id": "90l3tXV7U4gq"
      },
      "source": [
        "## Question 9"
      ]
    },
    {
      "cell_type": "code",
      "metadata": {
        "id": "80ZIW1lckpam",
        "colab": {
          "base_uri": "https://localhost:8080/"
        },
        "outputId": "e6882527-3151-4983-fda4-dc04cceb3ada"
      },
      "source": [
        "mu_train = sum([r for r in y_train]) / len(y_train)\n",
        "mu_train"
      ],
      "execution_count": null,
      "outputs": [
        {
          "output_type": "execute_result",
          "data": {
            "text/plain": [
              "4.580835"
            ]
          },
          "metadata": {},
          "execution_count": 17
        }
      ]
    },
    {
      "cell_type": "code",
      "metadata": {
        "id": "MD04uVzBmOrl"
      },
      "source": [
        "import tensorflow as tf\n",
        "# train_data[0]"
      ],
      "execution_count": null,
      "outputs": []
    },
    {
      "cell_type": "code",
      "metadata": {
        "id": "SIMDA0zQk66H"
      },
      "source": [
        "optimizer = tf.keras.optimizers.Adam(0.01)"
      ],
      "execution_count": null,
      "outputs": []
    },
    {
      "cell_type": "code",
      "metadata": {
        "id": "N8Z5FdD5qFjV"
      },
      "source": [
        "recipeRating = defaultdict(list)\n",
        "recipeAverage = defaultdict(float)\n",
        "for _, recipe, rating in train_data_active:\n",
        "  recipeRating[recipe].append(rating)\n",
        "\n",
        "for recipe in recipeRating.keys():\n",
        "  if len(recipeRating[recipe]) >= 10:\n",
        "    recipeAverage[recipe] = sum(recipeRating[recipe]) / len(recipeRating[recipe])"
      ],
      "execution_count": null,
      "outputs": []
    },
    {
      "cell_type": "code",
      "metadata": {
        "id": "2lCfSk92mOC0"
      },
      "source": [
        "userIDs = { userId:idx for idx, userId in enumerate(list(active_userid))}\n",
        "userRevMap = { idx: userId for idx, userId in enumerate(list(active_userid))}\n",
        "recipeIds = {recipe:idx for idx, recipe in enumerate(list(active_recipe))}\n",
        "recipeIdRevMap = {idx:recipe for idx, recipe in enumerate(list(active_recipe))}"
      ],
      "execution_count": null,
      "outputs": []
    },
    {
      "cell_type": "code",
      "metadata": {
        "id": "P4fE_qZyU8wI"
      },
      "source": [
        "class LatentFactorModel(tf.keras.Model):\n",
        "    def __init__(self, mu, K, lamb):\n",
        "        super(LatentFactorModel, self).__init__()\n",
        "        # Initialize to average\n",
        "        self.alpha = tf.Variable(mu)\n",
        "        # Initialize to small random values\n",
        "        self.betaU = tf.Variable(tf.random.normal([len(userIDs)],stddev=0.01))\n",
        "        self.betaI = tf.Variable(tf.random.normal([len(recipeIds)],stddev=0.01))\n",
        "        self.gammaU = tf.Variable(tf.random.normal([len(userIDs),K],stddev=0.01))\n",
        "        self.gammaI = tf.Variable(tf.random.normal([len(recipeIds),K],stddev=0.01))\n",
        "        self.lamb = lamb\n",
        "\n",
        "    # Prediction for a single instance (useful for evaluation)\n",
        "    def predict(self, u, i):\n",
        "        p = self.alpha + self.betaU[u] + self.betaI[i] +\\\n",
        "            tf.tensordot(self.gammaU[u], self.gammaI[i], 1)\n",
        "        return p\n",
        "\n",
        "    # Regularizer\n",
        "    def reg(self):\n",
        "        return 0.0001 * tf.reduce_sum(self.betaU**2) +\\\n",
        "                         0.001 * tf.reduce_sum(self.betaI**2) +\\\n",
        "                         0.001 * tf.reduce_sum(self.gammaU**2) +\\\n",
        "                          0.001 *  tf.reduce_sum(self.gammaI**2)\n",
        "    \n",
        "    # Prediction for a sample of instances\n",
        "    def predictSample(self, sampleU, sampleI):\n",
        "        u = tf.convert_to_tensor(sampleU, dtype=tf.int32)\n",
        "        i = tf.convert_to_tensor(sampleI, dtype=tf.int32)\n",
        "        beta_u = tf.nn.embedding_lookup(self.betaU, u)\n",
        "        beta_i = tf.nn.embedding_lookup(self.betaI, i)\n",
        "        gamma_u = tf.nn.embedding_lookup(self.gammaU, u)\n",
        "        gamma_i = tf.nn.embedding_lookup(self.gammaI, i)\n",
        "        pred = self.alpha + beta_u + beta_i +\\\n",
        "               tf.reduce_sum(tf.multiply(gamma_u, gamma_i), 1)\n",
        "        return pred\n",
        "    \n",
        "    # Loss\n",
        "    def call(self, sampleU, sampleI, sampleR):\n",
        "        pred = self.predictSample(sampleU, sampleI)\n",
        "        r = tf.convert_to_tensor(sampleR, dtype=tf.float32)\n",
        "        return tf.nn.l2_loss(pred - r) / len(sampleR)\n"
      ],
      "execution_count": null,
      "outputs": []
    },
    {
      "cell_type": "code",
      "metadata": {
        "id": "2ul45YxkkOYd"
      },
      "source": [],
      "execution_count": null,
      "outputs": []
    },
    {
      "cell_type": "code",
      "metadata": {
        "id": "ymbkA6znlorw"
      },
      "source": [
        "def trainingStep(interactions):\n",
        "    Nsamples = 50000\n",
        "    with tf.GradientTape() as tape:\n",
        "        sampleU, sampleI, sampleR = [], [], []\n",
        "        for _ in range(Nsamples):\n",
        "            u,i,r = random.choice(interactions)\n",
        "            sampleU.append(userIDs[u])\n",
        "            sampleI.append(recipeIds[i])\n",
        "            sampleR.append(r)\n",
        "\n",
        "        loss = model(sampleU,sampleI,sampleR)\n",
        "        loss += model.reg()\n",
        "    gradients = tape.gradient(loss, model.trainable_variables)\n",
        "    optimizer.apply_gradients((grad, var) for\n",
        "                              (grad, var) in zip(gradients, model.trainable_variables)\n",
        "                              if grad is not None)\n",
        "    return loss.numpy()\n"
      ],
      "execution_count": null,
      "outputs": []
    },
    {
      "cell_type": "code",
      "metadata": {
        "id": "806EtruIq1Uj"
      },
      "source": [
        "trainData = [(userid, recipeId, rating) for userid, recipeId, rating in train_data_active]\n",
        "train_labels = [rating for userid, recipeId, rating in train_data_active]\n",
        "valData = X_test[:]\n",
        "val_labels = y_test[:]"
      ],
      "execution_count": null,
      "outputs": []
    },
    {
      "cell_type": "code",
      "metadata": {
        "colab": {
          "base_uri": "https://localhost:8080/"
        },
        "id": "VSh6tzDDaCL7",
        "outputId": "ca8922b9-c07e-41bd-8914-d27eca2cf3dd"
      },
      "source": [
        "len(val_labels)"
      ],
      "execution_count": null,
      "outputs": [
        {
          "output_type": "execute_result",
          "data": {
            "text/plain": [
              "100000"
            ]
          },
          "metadata": {},
          "execution_count": 25
        }
      ]
    },
    {
      "cell_type": "code",
      "metadata": {
        "colab": {
          "base_uri": "https://localhost:8080/"
        },
        "id": "ze5XH1hYocRz",
        "outputId": "b6a8a91d-1d03-4c25-fc32-1c7e3c4c02c8"
      },
      "source": [
        "# 10 iterations of gradient descent\n",
        "model = LatentFactorModel(mu_train, 256, 0.0002)\n",
        "\n",
        "for i in range(100):\n",
        "    obj = trainingStep(trainData)\n",
        "    print(\"iteration \" + str(i) + \", objective = \" + str(obj))\n"
      ],
      "execution_count": null,
      "outputs": [
        {
          "output_type": "stream",
          "name": "stdout",
          "text": [
            "iteration 0, objective = 1.021687\n",
            "iteration 1, objective = 0.62277114\n",
            "iteration 2, objective = 0.4204625\n",
            "iteration 3, objective = 0.46294641\n",
            "iteration 4, objective = 0.555688\n",
            "iteration 5, objective = 0.5787035\n",
            "iteration 6, objective = 0.5471002\n",
            "iteration 7, objective = 0.4839044\n",
            "iteration 8, objective = 0.4471284\n",
            "iteration 9, objective = 0.42574608\n",
            "iteration 10, objective = 0.4141975\n",
            "iteration 11, objective = 0.39965934\n",
            "iteration 12, objective = 0.40172973\n",
            "iteration 13, objective = 0.39251924\n",
            "iteration 14, objective = 0.38497174\n",
            "iteration 15, objective = 0.38278458\n",
            "iteration 16, objective = 0.36155355\n",
            "iteration 17, objective = 0.36192504\n",
            "iteration 18, objective = 0.35479853\n",
            "iteration 19, objective = 0.35511798\n",
            "iteration 20, objective = 0.3415732\n",
            "iteration 21, objective = 0.3404727\n",
            "iteration 22, objective = 0.34419113\n",
            "iteration 23, objective = 0.32937884\n",
            "iteration 24, objective = 0.33129236\n",
            "iteration 25, objective = 0.32034189\n",
            "iteration 26, objective = 0.32921845\n",
            "iteration 27, objective = 0.3247341\n",
            "iteration 28, objective = 0.32391775\n",
            "iteration 29, objective = 0.32645512\n",
            "iteration 30, objective = 0.32176164\n",
            "iteration 31, objective = 0.315697\n",
            "iteration 32, objective = 0.31456044\n",
            "iteration 33, objective = 0.31105044\n",
            "iteration 34, objective = 0.31151962\n",
            "iteration 35, objective = 0.31143117\n",
            "iteration 36, objective = 0.29872885\n",
            "iteration 37, objective = 0.31751424\n",
            "iteration 38, objective = 0.30976468\n",
            "iteration 39, objective = 0.30741122\n",
            "iteration 40, objective = 0.3097659\n",
            "iteration 41, objective = 0.31057462\n",
            "iteration 42, objective = 0.2994096\n",
            "iteration 43, objective = 0.31262243\n",
            "iteration 44, objective = 0.3069335\n",
            "iteration 45, objective = 0.29735345\n",
            "iteration 46, objective = 0.31026557\n",
            "iteration 47, objective = 0.28847384\n",
            "iteration 48, objective = 0.29833123\n",
            "iteration 49, objective = 0.30045885\n",
            "iteration 50, objective = 0.3040412\n",
            "iteration 51, objective = 0.3072166\n",
            "iteration 52, objective = 0.31940004\n",
            "iteration 53, objective = 0.3116244\n",
            "iteration 54, objective = 0.28939763\n",
            "iteration 55, objective = 0.30171606\n",
            "iteration 56, objective = 0.29838604\n",
            "iteration 57, objective = 0.31521758\n",
            "iteration 58, objective = 0.30572888\n",
            "iteration 59, objective = 0.29767847\n",
            "iteration 60, objective = 0.30238238\n",
            "iteration 61, objective = 0.31108806\n",
            "iteration 62, objective = 0.31111416\n",
            "iteration 63, objective = 0.3077734\n",
            "iteration 64, objective = 0.3082231\n",
            "iteration 65, objective = 0.30532452\n",
            "iteration 66, objective = 0.29858866\n",
            "iteration 67, objective = 0.2947002\n",
            "iteration 68, objective = 0.29688513\n",
            "iteration 69, objective = 0.2953634\n",
            "iteration 70, objective = 0.29062274\n",
            "iteration 71, objective = 0.29915333\n",
            "iteration 72, objective = 0.29460606\n",
            "iteration 73, objective = 0.30353987\n",
            "iteration 74, objective = 0.31465384\n",
            "iteration 75, objective = 0.2940704\n",
            "iteration 76, objective = 0.3037334\n",
            "iteration 77, objective = 0.30705893\n",
            "iteration 78, objective = 0.30654556\n",
            "iteration 79, objective = 0.30609652\n",
            "iteration 80, objective = 0.30204737\n",
            "iteration 81, objective = 0.30239624\n",
            "iteration 82, objective = 0.30164644\n",
            "iteration 83, objective = 0.29465967\n",
            "iteration 84, objective = 0.3080792\n",
            "iteration 85, objective = 0.30266067\n",
            "iteration 86, objective = 0.30219033\n",
            "iteration 87, objective = 0.31312525\n",
            "iteration 88, objective = 0.30324155\n",
            "iteration 89, objective = 0.3011943\n",
            "iteration 90, objective = 0.30904695\n",
            "iteration 91, objective = 0.30416054\n",
            "iteration 92, objective = 0.29777458\n",
            "iteration 93, objective = 0.29559755\n",
            "iteration 94, objective = 0.29697758\n",
            "iteration 95, objective = 0.29766756\n",
            "iteration 96, objective = 0.28888208\n",
            "iteration 97, objective = 0.30200675\n",
            "iteration 98, objective = 0.3163045\n",
            "iteration 99, objective = 0.3160127\n"
          ]
        }
      ]
    },
    {
      "cell_type": "code",
      "metadata": {
        "id": "DJ6nECMcohCE"
      },
      "source": [
        "def MSE(predictions, labels):\n",
        "    differences = [(x-y)**2 for x,y in zip(predictions,labels)]\n",
        "    return sum(differences) / len(differences)\n"
      ],
      "execution_count": null,
      "outputs": []
    },
    {
      "cell_type": "code",
      "metadata": {
        "colab": {
          "base_uri": "https://localhost:8080/"
        },
        "id": "B9ozlbWgk7dx",
        "outputId": "b58cd8eb-3af8-4246-bd67-f88d590d7bd8"
      },
      "source": [
        "\n",
        "train_predictions = []\n",
        "train_labels_active = []\n",
        "\n",
        "orginalPred = []\n",
        "\n",
        "pair = []\n",
        "j = 0\n",
        "p_count, np_count = 0,0 \n",
        "for u,i,_ in tqdm(trainData[:2000]):\n",
        "  if (u in active_userid and i in active_recipe):\n",
        "    p_count += 1\n",
        "    pair.append((userIDs[u],recipeIds[i]))\n",
        "    train_labels_active.append(train_labels[j])\n",
        "\n",
        "  if u in userAverage:\n",
        "    orginalPred.append(userAverage[u])\n",
        "  else:\n",
        "    orginalPred.append(globalAverage)\n",
        "  j += 1\n",
        "\n",
        "train_predictions = model.predictSample([i[0] for i in pair], [i[1] for i in pair]).numpy()\n",
        "print(\"\\n\", p_count, np_count, len(train_predictions), len(train_labels_active), MSE(train_predictions, train_labels_active))\n",
        "print(MSE(orginalPred, train_labels_active))"
      ],
      "execution_count": null,
      "outputs": [
        {
          "output_type": "stream",
          "name": "stderr",
          "text": [
            "100%|██████████| 2000/2000 [00:00<00:00, 277483.64it/s]"
          ]
        },
        {
          "output_type": "stream",
          "name": "stdout",
          "text": [
            "\n",
            " 2000 0 2000 2000 0.5499088622715448\n",
            "0.5636414198252752\n"
          ]
        },
        {
          "output_type": "stream",
          "name": "stderr",
          "text": [
            "\n"
          ]
        }
      ]
    },
    {
      "cell_type": "code",
      "metadata": {
        "colab": {
          "base_uri": "https://localhost:8080/"
        },
        "id": "L2ASc3sClr9O",
        "outputId": "7c1d9fa3-ffc1-4f78-87e0-adfbda87bb5f"
      },
      "source": [
        "val_predictions = []\n",
        "val_labels_active = []\n",
        "pair = []\n",
        "j = 0\n",
        "orginalPred = []\n",
        "\n",
        "p_count, np_count = 0,0 \n",
        "for u,i in tqdm(valData):\n",
        "  if (u in active_userid and i in active_recipe):\n",
        "    p_count += 1\n",
        "    pair.append((userIDs[u],recipeIds[i]))\n",
        "    val_labels_active.append(val_labels[j])\n",
        "  \n",
        "    if u in userAverage:\n",
        "      orginalPred.append(userAverage[u])\n",
        "    else:\n",
        "      orginalPred.append(globalAverage)\n",
        "\n",
        "  j += 1\n",
        "\n",
        "val_predictions = model.predictSample([i[0] for i in pair], [i[1] for i in pair]).numpy()\n",
        "\n",
        "\n",
        "print(\"\\n\", p_count, np_count, len(val_predictions), len(val_labels_active), len(orginalPred), MSE(val_predictions, val_labels_active))\n",
        "print(MSE(orginalPred, val_labels_active))"
      ],
      "execution_count": null,
      "outputs": [
        {
          "output_type": "stream",
          "name": "stderr",
          "text": [
            "100%|██████████| 100000/100000 [00:00<00:00, 597780.65it/s]\n"
          ]
        },
        {
          "output_type": "stream",
          "name": "stdout",
          "text": [
            "\n",
            " 31443 0 31443 31443 31443 0.5861009934204994\n",
            "0.5766266840052291\n"
          ]
        }
      ]
    },
    {
      "cell_type": "code",
      "metadata": {
        "id": "Fa-_1jLSopHx",
        "colab": {
          "base_uri": "https://localhost:8080/"
        },
        "outputId": "7e8215ab-74a1-4dde-b8e4-d52437d16d58"
      },
      "source": [
        "\n",
        "predictions = []\n",
        "val_labels_active = []\n",
        "\n",
        "pair = []\n",
        "pair_val = []\n",
        "j = 0\n",
        "p_count, np_count = 0,0 \n",
        "for u,i in tqdm(valData):\n",
        "  if (u in active_userid and i in active_recipe):\n",
        "    p_count += 1\n",
        "    pair.append((userIDs[u],recipeIds[i]))\n",
        "    pair_val.append(val_labels[j])\n",
        "  else:\n",
        "    np_count += 1\n",
        "    if u in userAverage:\n",
        "      predictions.append(userAverage[u])\n",
        "    else:\n",
        "      predictions.append(globalAverage)\n",
        "    val_labels_active.append(val_labels[j])\n",
        "\n",
        "  j += 1\n",
        "\n",
        "\n",
        "pPred = model.predictSample([i[0] for i in pair], [i[1] for i in pair]).numpy()\n",
        "\n",
        "print(\"\\n\", p_count, np_count, len(predictions+list(pPred)), len(val_labels_active+pair_val), MSE(predictions+list(pPred), val_labels_active+pair_val))"
      ],
      "execution_count": null,
      "outputs": [
        {
          "output_type": "stream",
          "name": "stderr",
          "text": [
            "100%|██████████| 100000/100000 [00:00<00:00, 473238.04it/s]\n"
          ]
        },
        {
          "output_type": "stream",
          "name": "stdout",
          "text": [
            "\n",
            " 31443 68557 100000 100000 0.7934786710064207\n"
          ]
        }
      ]
    },
    {
      "cell_type": "code",
      "metadata": {
        "id": "SERcaOR1kzkj"
      },
      "source": [],
      "execution_count": null,
      "outputs": []
    },
    {
      "cell_type": "code",
      "metadata": {
        "colab": {
          "base_uri": "https://localhost:8080/"
        },
        "id": "rk-AkOxhpdlf",
        "outputId": "9f67627f-2d3b-4d09-ceee-4c4b715a29a0"
      },
      "source": [
        "predictions = []\n",
        "val_labels_active = []\n",
        "\n",
        "j = 0\n",
        "p_count, np_count = 0,0 \n",
        "for u,i in tqdm(valData):\n",
        "  \n",
        "  np_count += 1\n",
        "  if u in userAverage:\n",
        "    predictions.append(userAverage[u])\n",
        "  else:\n",
        "    predictions.append(globalAverage)\n",
        "  val_labels_active.append(val_labels[j])\n",
        "\n",
        "  j += 1\n",
        "\n",
        "# predictions =\\\n",
        "#     [model.predict(userIDs[u],recipeIds[i]).numpy() for u,i,_ in tqdm(valData[:10000])]\n",
        "print(\"\\n\", p_count, np_count, MSE(predictions, val_labels_active))"
      ],
      "execution_count": null,
      "outputs": [
        {
          "output_type": "stream",
          "name": "stderr",
          "text": [
            "100%|██████████| 100000/100000 [00:00<00:00, 660007.90it/s]"
          ]
        },
        {
          "output_type": "stream",
          "name": "stdout",
          "text": [
            "\n",
            " 0 100000 0.7904996638967468\n"
          ]
        },
        {
          "output_type": "stream",
          "name": "stderr",
          "text": [
            "\n"
          ]
        }
      ]
    },
    {
      "cell_type": "code",
      "metadata": {
        "colab": {
          "base_uri": "https://localhost:8080/"
        },
        "id": "Zxyyx70xkdRm",
        "outputId": "e7559a1a-5f38-48e8-f433-a15bcb2130b5"
      },
      "source": [
        "print(p_count, np_count)"
      ],
      "execution_count": null,
      "outputs": [
        {
          "output_type": "stream",
          "name": "stdout",
          "text": [
            "0 100000\n"
          ]
        }
      ]
    },
    {
      "cell_type": "code",
      "metadata": {
        "colab": {
          "base_uri": "https://localhost:8080/"
        },
        "id": "l0Mzme2oqioC",
        "outputId": "d949d710-1d32-4cab-ee3e-b41462d7ff12"
      },
      "source": [
        "print(\"MSE for bias only predictions \", MSE(predictions, val_labels_active))\n"
      ],
      "execution_count": null,
      "outputs": [
        {
          "output_type": "stream",
          "name": "stdout",
          "text": [
            "MSE for bias only predictions  0.7904996638967468\n"
          ]
        }
      ]
    },
    {
      "cell_type": "code",
      "metadata": {
        "colab": {
          "base_uri": "https://localhost:8080/"
        },
        "id": "a01POl0_atJR",
        "outputId": "d14ce8b8-115c-463d-86c2-62533dfe742c"
      },
      "source": [
        "predictions_new = []\n",
        "\n",
        "for pred, _ in list(zip(predictions, val_labels_active)):\n",
        "    predictions_new.append(pred)\n",
        "\n",
        "MSE(predictions_new, val_labels_active)"
      ],
      "execution_count": null,
      "outputs": [
        {
          "output_type": "execute_result",
          "data": {
            "text/plain": [
              "0.7904996638967468"
            ]
          },
          "metadata": {},
          "execution_count": 45
        }
      ]
    },
    {
      "cell_type": "code",
      "metadata": {
        "id": "hYHshtSChU1V"
      },
      "source": [],
      "execution_count": null,
      "outputs": []
    },
    {
      "cell_type": "code",
      "metadata": {
        "id": "HxTUcKUxuna3"
      },
      "source": [
        "# predictions = open(data_dir+\"predictions_Rated.txt\", 'w')\n",
        "# count = 0\n",
        "# nonpred = 0\n",
        "# for l in open(data_dir+\"stub_Rated.txt\"):\n",
        "#   if l.startswith(\"user_id\"):\n",
        "#     #header\n",
        "#     predictions.write(l)\n",
        "#     continue\n",
        "#   u,i = l.strip().split('-')\n",
        "#   pred = 0 \n",
        "#   if u in userIDs and i in recipeIds:\n",
        "#     count += 1\n",
        "#     pred = model.predict(userIDs[u],recipeIds[i]).numpy()\n",
        "#   else:\n",
        "#     nonpred += 1\n",
        "#     if u in userAverage:\n",
        "#       pred = userAverage[u]\n",
        "#     elif i in recipeAverage:\n",
        "#       pred = recipeAverage[i]\n",
        "#     else:\n",
        "#       pred = globalAverage\n",
        "#   if pred > 4.85:\n",
        "#     pred = 5\n",
        "#   predictions.write(u + '-' + i + ',' + str(pred) + '\\n')\n",
        "\n",
        "# predictions.close()\n"
      ],
      "execution_count": null,
      "outputs": []
    },
    {
      "cell_type": "code",
      "metadata": {
        "id": "Z3mKtcbsWSDo",
        "colab": {
          "base_uri": "https://localhost:8080/",
          "height": 164
        },
        "outputId": "e27723ab-76a6-4c91-beb9-17011a2fc32d"
      },
      "source": [
        "count, nonpred"
      ],
      "execution_count": null,
      "outputs": [
        {
          "output_type": "error",
          "ename": "NameError",
          "evalue": "ignored",
          "traceback": [
            "\u001b[0;31m---------------------------------------------------------------------------\u001b[0m",
            "\u001b[0;31mNameError\u001b[0m                                 Traceback (most recent call last)",
            "\u001b[0;32m<ipython-input-36-45acbf7ba51a>\u001b[0m in \u001b[0;36m<module>\u001b[0;34m()\u001b[0m\n\u001b[0;32m----> 1\u001b[0;31m \u001b[0mcount\u001b[0m\u001b[0;34m,\u001b[0m \u001b[0mnonpred\u001b[0m\u001b[0;34m\u001b[0m\u001b[0;34m\u001b[0m\u001b[0m\n\u001b[0m",
            "\u001b[0;31mNameError\u001b[0m: name 'count' is not defined"
          ]
        }
      ]
    },
    {
      "cell_type": "code",
      "metadata": {
        "id": "Hho63zUBg261"
      },
      "source": [],
      "execution_count": null,
      "outputs": []
    }
  ]
}