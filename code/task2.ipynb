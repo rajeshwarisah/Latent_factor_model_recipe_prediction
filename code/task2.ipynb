{
  "nbformat": 4,
  "nbformat_minor": 5,
  "metadata": {
    "kernelspec": {
      "display_name": "Python 3 (ipykernel)",
      "language": "python",
      "name": "python3"
    },
    "language_info": {
      "codemirror_mode": {
        "name": "ipython",
        "version": 3
      },
      "file_extension": ".py",
      "mimetype": "text/x-python",
      "name": "python",
      "nbconvert_exporter": "python",
      "pygments_lexer": "ipython3",
      "version": "3.10.0"
    },
    "colab": {
      "provenance": []
    }
  },
  "cells": [
    {
      "cell_type": "code",
      "metadata": {
        "id": "0f7d7f07"
      },
      "source": [
        "# 0.81125 - Full\n",
        "# 0.8242344 - Partial\n",
        "\n",
        "import gzip\n",
        "from collections import defaultdict\n",
        "from sklearn import linear_model\n",
        "import csv\n",
        "import scipy\n",
        "import numpy\n",
        "\n",
        "def readGz(path):\n",
        "    for l in gzip.open(path, 'rt'):\n",
        "        yield eval(l)\n",
        "\n",
        "def readCSV(path):\n",
        "    f = gzip.open(path, 'rt')\n",
        "    c = csv.reader(f)\n",
        "    header = next(c)\n",
        "    for l in c:\n",
        "        d = dict(zip(header,l))\n",
        "        yield d['user_id'],d['recipe_id'],d"
      ],
      "id": "0f7d7f07",
      "execution_count": null,
      "outputs": []
    },
    {
      "cell_type": "code",
      "metadata": {
        "id": "42d981e4"
      },
      "source": [
        "allRatings = []\n",
        "userRatings = defaultdict(list)\n",
        "recipesPerUser = defaultdict(set)\n",
        "usersPerRecipe = defaultdict(set)\n",
        "all_recipes = set()\n",
        "\n",
        "dataset = []\n",
        "for user,recipe,d in readCSV(\"trainInteractions.csv.gz\"):\n",
        "    r = int(d['rating'])\n",
        "    allRatings.append(r)\n",
        "    recipesPerUser[d['user_id']].add(d['recipe_id'])\n",
        "    usersPerRecipe[d['recipe_id']].add(d['user_id'])\n",
        "    all_recipes.add(d['recipe_id'])\n",
        "    dataset.append([d['user_id'], d['recipe_id'], int(d['rating'])])\n",
        "    \n",
        "training_set = dataset[:400000]\n",
        "\n",
        "userRatingsTraining = defaultdict(list)\n",
        "recipesPerUserTraining = defaultdict(set)\n",
        "usersPerRecipeTraining = defaultdict(set)\n",
        "\n",
        "nUsersTraining = len(recipesPerUserTraining)\n",
        "nItemsTraining = len(usersPerRecipeTraining)\n"
      ],
      "id": "42d981e4",
      "execution_count": null,
      "outputs": []
    },
    {
      "cell_type": "code",
      "metadata": {
        "id": "ed059bb8"
      },
      "source": [
        "import random\n",
        "userGamma = {}\n",
        "itemGamma = {}\n",
        "\n",
        "K = 2\n",
        "\n",
        "for u in recipesPerUser:\n",
        "    userGamma[u] = [random.random() * 0.1 - 0.05 for k in range(K)]\n",
        "    \n",
        "for i in usersPerRecipe:\n",
        "    itemGamma[i] = [random.random() * 0.1 - 0.05 for k in range(K)]"
      ],
      "id": "ed059bb8",
      "execution_count": null,
      "outputs": []
    },
    {
      "cell_type": "code",
      "metadata": {
        "id": "a63ada12"
      },
      "source": [
        "ratingMean = sum([d[2] for d in dataset]) / len(dataset)\n",
        "labels = [d[2] for d in dataset]"
      ],
      "id": "a63ada12",
      "execution_count": null,
      "outputs": []
    },
    {
      "cell_type": "code",
      "metadata": {
        "id": "ed4bed76"
      },
      "source": [
        "N = len(dataset)\n",
        "nUsers = len(recipesPerUser)\n",
        "nItems = len(usersPerRecipe)\n",
        "users = list(recipesPerUser.keys())\n",
        "items = list(usersPerRecipe.keys())\n",
        "\n",
        "alpha = ratingMean"
      ],
      "id": "ed4bed76",
      "execution_count": null,
      "outputs": []
    },
    {
      "cell_type": "code",
      "metadata": {
        "id": "2d3c81a4",
        "outputId": "7495df3d-fcb7-463a-b5e3-c954da949c9e"
      },
      "source": [
        "ratingMean"
      ],
      "id": "2d3c81a4",
      "execution_count": null,
      "outputs": [
        {
          "data": {
            "text/plain": [
              "4.580794"
            ]
          },
          "execution_count": 87,
          "metadata": {},
          "output_type": "execute_result"
        }
      ]
    },
    {
      "cell_type": "code",
      "metadata": {
        "id": "6850ca5b"
      },
      "source": [
        "\n",
        "\n",
        "def MSE(predictions, labels):\n",
        "    differences = [(x-y)**2 for x,y in zip(predictions,labels)]\n",
        "    return sum(differences) / len(differences)"
      ],
      "id": "6850ca5b",
      "execution_count": null,
      "outputs": []
    },
    {
      "cell_type": "code",
      "metadata": {
        "id": "c71493dc"
      },
      "source": [
        "def unpack(theta):\n",
        "    global alpha\n",
        "    global userBiases\n",
        "    global itemBiases\n",
        "    global userGamma\n",
        "    global itemGamma\n",
        "    index = 0\n",
        "    alpha = theta[index]\n",
        "    index += 1\n",
        "    userBiases = dict(zip(users, theta[index:index+nUsers]))\n",
        "    index += nUsers\n",
        "    itemBiases = dict(zip(items, theta[index:index+nItems]))\n",
        "    index += nItems\n",
        "    for u in users:\n",
        "        userGamma[u] = theta[index:index+K]\n",
        "        index += K\n",
        "    for i in items:\n",
        "        itemGamma[i] = theta[index:index+K]\n",
        "        index += K"
      ],
      "id": "c71493dc",
      "execution_count": null,
      "outputs": []
    },
    {
      "cell_type": "code",
      "metadata": {
        "id": "9a252e07"
      },
      "source": [
        "def inner(x, y):\n",
        "    return sum([a*b for a,b in zip(x,y)])"
      ],
      "id": "9a252e07",
      "execution_count": null,
      "outputs": []
    },
    {
      "cell_type": "code",
      "metadata": {
        "id": "d7d10d80"
      },
      "source": [
        "def prediction(user, item):\n",
        "    userB = 0\n",
        "    itemB = 0\n",
        "    userG = 0\n",
        "    itemG = 0\n",
        "    if user in userBiases:\n",
        "        userB = userBiases[user]\n",
        "    if item in itemBiases:\n",
        "        itemB = itemBiases[item]\n",
        "    flag = 0\n",
        "    if user in userGamma:\n",
        "        userG = userGamma[user]\n",
        "    if item in itemGamma:\n",
        "        itemG = itemGamma[item]\n",
        "        \n",
        "    if user not in userGamma or item not in itemGamma:\n",
        "        flag = 1\n",
        "    if flag:\n",
        "        return alpha + userB + itemB\n",
        "    return alpha + userB + itemB + inner(userG, itemG)"
      ],
      "id": "d7d10d80",
      "execution_count": null,
      "outputs": []
    },
    {
      "cell_type": "code",
      "metadata": {
        "id": "bdf30bce"
      },
      "source": [
        "def cost(theta, labels, lamb):\n",
        "    unpack(theta)\n",
        "    predictions = [prediction(d[0], d[1]) for d in dataset]\n",
        "    cost = MSE(predictions, labels)\n",
        "    print(\"MSE = \" + str(cost))\n",
        "    for u in users:\n",
        "        cost += lamb*userBiases[u]**2\n",
        "        for k in range(K):\n",
        "            cost += lamb*userGamma[u][k]**2\n",
        "    for i in items:\n",
        "        cost += lamb*itemBiases[i]**2\n",
        "        for k in range(K):\n",
        "            cost += lamb*itemGamma[i][k]**2\n",
        "    return cost"
      ],
      "id": "bdf30bce",
      "execution_count": null,
      "outputs": []
    },
    {
      "cell_type": "code",
      "metadata": {
        "id": "f17f8dd8"
      },
      "source": [
        "dataset"
      ],
      "id": "f17f8dd8",
      "execution_count": null,
      "outputs": []
    },
    {
      "cell_type": "code",
      "metadata": {
        "id": "a7b3937d"
      },
      "source": [
        "def derivative(theta, labels, lamb):\n",
        "    unpack(theta)\n",
        "    N = len(dataset)\n",
        "    dalpha = 0\n",
        "    dUserBiases = defaultdict(float)\n",
        "    dItemBiases = defaultdict(float)\n",
        "    dUserGamma = {}\n",
        "    dItemGamma = {}\n",
        "    for u in recipesPerUser:\n",
        "        dUserGamma[u] = [0.0 for k in range(K)]\n",
        "    for i in usersPerRecipe:\n",
        "        dItemGamma[i] = [0.0 for k in range(K)]\n",
        "    for d in dataset:\n",
        "        u,i = d[0], d[1]\n",
        "        pred = prediction(u, i)\n",
        "        diff = pred - d[2]\n",
        "        dalpha += 2/N*diff\n",
        "        dUserBiases[u] += 2/N*diff\n",
        "        dItemBiases[i] += 2/N*diff\n",
        "        for k in range(K):\n",
        "            dUserGamma[u][k] += 2/N*itemGamma[i][k]*diff\n",
        "            dItemGamma[i][k] += 2/N*userGamma[u][k]*diff\n",
        "    for u in userBiases:\n",
        "        dUserBiases[u] += 2*lamb*userBiases[u]\n",
        "        for k in range(K):\n",
        "            dUserGamma[u][k] += 2*lamb*userGamma[u][k]\n",
        "    for i in itemBiases:\n",
        "        dItemBiases[i] += 2*lamb*itemBiases[i]\n",
        "        for k in range(K):\n",
        "            dItemGamma[i][k] += 2*lamb*itemGamma[i][k]\n",
        "    dtheta = [dalpha] + [dUserBiases[u] for u in users] + [dItemBiases[i] for i in items]\n",
        "    for u in users:\n",
        "        dtheta += dUserGamma[u]\n",
        "    for i in items:\n",
        "        dtheta += dItemGamma[i]\n",
        "    return numpy.array(dtheta)"
      ],
      "id": "a7b3937d",
      "execution_count": null,
      "outputs": []
    },
    {
      "cell_type": "code",
      "metadata": {
        "id": "aa2dd424",
        "outputId": "5e3b2ed0-ea88-4aba-f544-5433375a6656"
      },
      "source": [
        "scipy.optimize.fmin_l_bfgs_b(cost, [alpha] + # Initialize alpha\n",
        "                                   [0.0]*(nUsers+nItems) + # Initialize beta\n",
        "                                   [random.random() * 0.1 - 0.05 for k in range(K*(nUsers+nItems))], # Gamma\n",
        "                             derivative, args = (labels, 0.001))"
      ],
      "id": "aa2dd424",
      "execution_count": null,
      "outputs": [
        {
          "name": "stdout",
          "output_type": "stream",
          "text": [
            "MSE = 0.9008931639898173\n",
            "MSE = 0.89432067156482\n",
            "MSE = 0.8818474803763278\n",
            "MSE = 5.901699843515148\n",
            "MSE = 0.8848451254807598\n",
            "MSE = 0.8995866923542163\n",
            "MSE = 0.892268346553329\n",
            "MSE = 0.8700979842096767\n",
            "MSE = 0.8534219049603212\n",
            "MSE = 0.8532294252452209\n",
            "MSE = 0.8559699014592056\n",
            "MSE = 0.8570206728598808\n",
            "MSE = 0.8571209681247338\n",
            "MSE = 0.8572282408815318\n",
            "MSE = 0.8573286545478771\n",
            "MSE = 0.8573925717508543\n",
            "MSE = 0.8574047960198145\n",
            "MSE = 0.8573956436916906\n",
            "MSE = 0.8574037313437505\n",
            "MSE = 0.8573947046061768\n",
            "MSE = 0.8573945878140727\n"
          ]
        },
        {
          "data": {
            "text/plain": [
              "(array([ 4.54397957e+00, -1.28475833e-02, -5.62909030e-03, ...,\n",
              "        -6.83254900e-08, -6.27388629e-07,  1.91818463e-07]),\n",
              " 0.8735105060004237,\n",
              " {'grad': array([-9.97275617e-06, -3.25211507e-08, -4.86109116e-09, ...,\n",
              "         -1.36700732e-10, -1.23646143e-09,  3.98361719e-10]),\n",
              "  'task': 'CONVERGENCE: NORM_OF_PROJECTED_GRADIENT_<=_PGTOL',\n",
              "  'funcalls': 21,\n",
              "  'nit': 16,\n",
              "  'warnflag': 0})"
            ]
          },
          "execution_count": 95,
          "metadata": {},
          "output_type": "execute_result"
        }
      ]
    },
    {
      "cell_type": "code",
      "metadata": {
        "id": "2226cda8"
      },
      "source": [
        "test_set = []\n",
        "\n",
        "with open(\"stub_Rated.txt\") as file:\n",
        "    while (line := file.readline().rstrip()):\n",
        "        user_id, recipe_id = line.split('-')\n",
        "        try:\n",
        "            test_set.append([user_id,recipe_id])\n",
        "        except:\n",
        "            pass"
      ],
      "id": "2226cda8",
      "execution_count": null,
      "outputs": []
    },
    {
      "cell_type": "code",
      "metadata": {
        "id": "48dca144",
        "outputId": "402b6d10-5d9c-4df0-c74b-c4b1b319abc4"
      },
      "source": [
        "lfPredictions = []\n",
        "for d in test_set[1:]:\n",
        "    print(prediction(d[0], d[1]))\n",
        "    break\n",
        "#     prediction()"
      ],
      "id": "48dca144",
      "execution_count": null,
      "outputs": [
        {
          "name": "stdout",
          "output_type": "stream",
          "text": [
            "4.613109232425409\n"
          ]
        }
      ]
    },
    {
      "cell_type": "code",
      "metadata": {
        "id": "5df39cd3"
      },
      "source": [
        "userBiases"
      ],
      "id": "5df39cd3",
      "execution_count": null,
      "outputs": []
    },
    {
      "cell_type": "code",
      "metadata": {
        "id": "1adefb66"
      },
      "source": [
        "f = open(\"A24Gamma.txt\", \"w\")\n",
        "f.write(\"user_id-recipe_id,prediction\\n\")\n",
        "\n",
        "for user_id, recipe_id in test_set[1:]:\n",
        "    f.write(str(user_id)+\"-\"+str(recipe_id)+\",\"+str(prediction(user_id, recipe_id))+\"\\n\")\n",
        "    \n",
        "f.close()"
      ],
      "id": "1adefb66",
      "execution_count": null,
      "outputs": []
    },
    {
      "cell_type": "code",
      "metadata": {
        "id": "e4435a76"
      },
      "source": [],
      "id": "e4435a76",
      "execution_count": null,
      "outputs": []
    }
  ]
}